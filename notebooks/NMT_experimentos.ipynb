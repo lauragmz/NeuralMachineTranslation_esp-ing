{
 "cells": [
  {
   "cell_type": "code",
   "execution_count": 1,
   "metadata": {},
   "outputs": [],
   "source": [
    "import tensorflow as tf\n",
    "import matplotlib.pyplot as plt\n",
    "import matplotlib.ticker as ticker\n",
    "from sklearn.model_selection import train_test_split\n",
    "\n",
    "import unicodedata\n",
    "import re\n",
    "import numpy as np\n",
    "import os\n",
    "import io\n",
    "import time"
   ]
  },
  {
   "cell_type": "code",
   "execution_count": 2,
   "metadata": {},
   "outputs": [],
   "source": [
    "# Download the file\n",
    "str_RutaZip = tf.keras.utils.get_file(\n",
    "    'spa-eng.zip', origin='http://storage.googleapis.com/download.tensorflow.org/data/spa-eng.zip',\n",
    "    extract=True)\n",
    "\n",
    "str_RutaArchivo = os.path.dirname(str_RutaZip)+\"/spa-eng/spa.txt\""
   ]
  },
  {
   "cell_type": "code",
   "execution_count": 3,
   "metadata": {},
   "outputs": [],
   "source": [
    "# Converts the unicode file to ascii\n",
    "def ConvertirUnicodeToAscii(str_Texto):\n",
    "  return ''.join(c for c in unicodedata.normalize('NFD', str_Texto) if unicodedata.category(c) != 'Mn')\n",
    "\n",
    "\n",
    "def PrepararOraciones(str_Oracion):\n",
    "  str_Oracion = ConvertirUnicodeToAscii(str_Oracion.lower().strip())\n",
    "\n",
    "  # Se crea un espacio entre las palabras y signos de puntuación\n",
    "  str_Oracion = re.sub(r\"([?.!,¿])\", r\" \\1 \", str_Oracion)\n",
    "  str_Oracion = re.sub(r'[\" \"]+', \" \", str_Oracion)\n",
    "\n",
    "  # Se reemplaza todo por un espacio excepto letras y signos especificados\n",
    "  str_Oracion = re.sub(r\"[^a-zA-Z?.!,¿]+\", \" \", str_Oracion)\n",
    "\n",
    "  str_Oracion = str_Oracion.strip()\n",
    "\n",
    "  # Se agrega el token de inicio y fin\n",
    "  str_Oracion = '<start> ' + str_Oracion + ' <end>'\n",
    "  return str_Oracion"
   ]
  },
  {
   "cell_type": "code",
   "execution_count": 4,
   "metadata": {},
   "outputs": [],
   "source": [
    "# 1. Quitar acentos\n",
    "# 2. Limpiar oraciones\n",
    "# 3. Regresar parejas de textos en el formtato: [Target, Input]\n",
    "def PrepararDataset(str_RutaArchivo, nbr_CantEjemplos):\n",
    "\n",
    "  str_Lineas = io.open(str_RutaArchivo, encoding='UTF-8').read().strip().split('\\n')\n",
    "\n",
    "  list_ParejaDeFrases = [[PrepararOraciones(str_Oracion) for str_Oracion in str_Linea.split('\\t')]  for str_Linea in str_Lineas[:nbr_CantEjemplos]]\n",
    "  \n",
    "  return zip(*list_ParejaDeFrases)"
   ]
  },
  {
   "cell_type": "code",
   "execution_count": 5,
   "metadata": {},
   "outputs": [],
   "source": [
    "tupl_Ing, tupl_Esp = PrepararDataset(str_RutaArchivo, None)"
   ]
  },
  {
   "cell_type": "code",
   "execution_count": 6,
   "metadata": {},
   "outputs": [],
   "source": [
    "def Tokenizar(tupl_Frases):\n",
    "  \n",
    "  Tokenizador_Frases = tf.keras.preprocessing.text.Tokenizer(filters='')\n",
    "  Tokenizador_Frases.fit_on_texts(tupl_Frases)\n",
    "\n",
    "  tensor = Tokenizador_Frases.texts_to_sequences(tupl_Frases)\n",
    "\n",
    "  tensor = tf.keras.preprocessing.sequence.pad_sequences(tensor, padding='post')\n",
    "\n",
    "  return tensor, Tokenizador_Frases\n",
    "  "
   ]
  },
  {
   "cell_type": "code",
   "execution_count": 7,
   "metadata": {},
   "outputs": [],
   "source": [
    "def CargarDataset(str_RutaArchivo, nbr_CantEjemplos=None):\n",
    "  \n",
    "  tupl_Target, tupl_Input = PrepararDataset(str_RutaArchivo, nbr_CantEjemplos)\n",
    "\n",
    "  # Idioma Input\n",
    "  tensor_Input, Tokenizador_Frases_Input = Tokenizar(tupl_Input)\n",
    "  \n",
    "  # Idioma Target\n",
    "  tensor_Target, Tokenizador_Frases_Target = Tokenizar(tupl_Target)\n",
    "\n",
    "  return tensor_Input, tensor_Target, Tokenizador_Frases_Input, Tokenizador_Frases_Target"
   ]
  },
  {
   "cell_type": "code",
   "execution_count": 8,
   "metadata": {},
   "outputs": [],
   "source": [
    "# nbr_CantEjemplos = 100\n",
    "nbr_CantEjemplos = 118964 \n",
    "\n",
    "tensor_Input, tensor_Target, Tokenizador_Frases_Input, Tokenizador_Frases_Target = CargarDataset(str_RutaArchivo, nbr_CantEjemplos)\n",
    "\n",
    "# Obtenemos el tamanio máximo de los tensores\n",
    "nbr_TamanioMax_FraseTarget, nbr_TamanioMax_FraseInput = tensor_Target.shape[1], tensor_Input.shape[1]"
   ]
  },
  {
   "cell_type": "code",
   "execution_count": 9,
   "metadata": {},
   "outputs": [],
   "source": [
    "# Separamos train y test 80-20\n",
    "tensor_Input_train, tensor_Input_val, tensor_Target_train, tensor_Target_val = train_test_split(tensor_Input, tensor_Target, test_size=0.2)"
   ]
  },
  {
   "cell_type": "code",
   "execution_count": 10,
   "metadata": {},
   "outputs": [],
   "source": [
    "def convert(Tokenizador, tensor):\n",
    "  for t in tensor:\n",
    "    if t!=0:\n",
    "      print (\"%d ----> %s\" % (t, Tokenizador.index_word[t]))"
   ]
  },
  {
   "cell_type": "code",
   "execution_count": 11,
   "metadata": {},
   "outputs": [],
   "source": [
    "nbr_TamanioBuffer = len(tensor_Input_train)\n",
    "# nbr_TamanioBatch = 16\n",
    "nbr_TamanioBatch = 64\n",
    "nbr_steps_per_epoch = len(tensor_Input_train)//nbr_TamanioBatch\n",
    "nbr_EmbeddingDim = 256\n",
    "# nbr_EncDec_Units = 10\n",
    "nbr_EncDec_Units = 1024\n",
    "nbr_TamanioVoc_Input = len(Tokenizador_Frases_Input.word_index)+1\n",
    "nbr_TamanioVoc_Target = len(Tokenizador_Frases_Target.word_index)+1\n",
    "\n",
    "dataset = tf.data.Dataset.from_tensor_slices((tensor_Input_train, tensor_Target_train)).shuffle(nbr_TamanioBuffer)\n",
    "dataset = dataset.batch(nbr_TamanioBatch, drop_remainder=True)"
   ]
  },
  {
   "cell_type": "code",
   "execution_count": 12,
   "metadata": {},
   "outputs": [],
   "source": [
    "tensor_Input_Batch_Ej, tensor_Target_Batch_Ej = next(iter(dataset))"
   ]
  },
  {
   "cell_type": "code",
   "execution_count": 13,
   "metadata": {},
   "outputs": [],
   "source": [
    "class Encoder(tf.keras.Model):\n",
    "  def __init__(self, nbr_TamanioVoc_Input, nbr_EmbeddingDim, nbr_EncDec_Units, nbr_TamanioBatch):\n",
    "    super(Encoder, self).__init__()\n",
    "    self.nbr_TamanioBatch = nbr_TamanioBatch\n",
    "    self.nbr_EncDec_Units = nbr_EncDec_Units\n",
    "    self.embedding = tf.keras.layers.Embedding(nbr_TamanioVoc_Input, nbr_EmbeddingDim)\n",
    "    self.gru = tf.keras.layers.GRU(self.nbr_EncDec_Units,\n",
    "                                   return_sequences=True,\n",
    "                                   return_state=True,\n",
    "                                   recurrent_initializer='glorot_uniform')\n",
    "\n",
    "  def call(self, tensor_Input_Batch, tensor_Encoder_Oculto):\n",
    "    \n",
    "    tensor_Input_Batch_Embedding = self.embedding(tensor_Input_Batch)\n",
    "    \n",
    "    tensor_Encoder_Output, tensor_Encoder_Estado_Oculto = self.gru(tensor_Input_Batch_Embedding, initial_state = tensor_Encoder_Oculto)\n",
    "    return tensor_Encoder_Output, tensor_Encoder_Estado_Oculto\n",
    "\n",
    "  def initialize_hidden_state(self):\n",
    "    return tf.zeros((self.nbr_TamanioBatch, self.nbr_EncDec_Units))"
   ]
  },
  {
   "cell_type": "code",
   "execution_count": 14,
   "metadata": {},
   "outputs": [],
   "source": [
    "encoder = Encoder(nbr_TamanioVoc_Input, nbr_EmbeddingDim, nbr_EncDec_Units, nbr_TamanioBatch)\n",
    "\n",
    "# sample input\n",
    "tensor_Encoder_Estado_Oculto_Init = encoder.initialize_hidden_state()\n",
    "\n",
    "tensor_Encoder_Output, tensor_Encoder_Estado_Oculto = encoder.call(tensor_Input_Batch_Ej, tensor_Encoder_Estado_Oculto_Init)"
   ]
  },
  {
   "cell_type": "code",
   "execution_count": 15,
   "metadata": {},
   "outputs": [],
   "source": [
    "class BahdanauAttention(tf.keras.layers.Layer):\n",
    "  def __init__(self, units):\n",
    "    super(BahdanauAttention, self).__init__()\n",
    "    self.W1 = tf.keras.layers.Dense(units)\n",
    "    self.W2 = tf.keras.layers.Dense(units)\n",
    "    self.V = tf.keras.layers.Dense(1)\n",
    "\n",
    "  def call(self, tensor_Oculto, tensor_Encoder_Output):\n",
    "    # tensor_Oculto hidden state shape == (batch_size, hidden size)\n",
    "    # tensor_Oculto_with_time_axis shape == (batch_size, 1, hidden size)\n",
    "    # tensor_Encoder_Output shape == (batch_size, max_len, hidden size)\n",
    "    # we are doing this to broadcast addition along the time axis to calculate the score\n",
    "    tensor_Oculto_with_time_axis = tf.expand_dims(tensor_Oculto, 1)\n",
    "    # print('tensor_Oculto: ', tensor_Oculto) # MJMA\n",
    "    # print('tensor_Oculto_with_time_axis: ', tensor_Oculto_with_time_axis) # MJMA\n",
    "\n",
    "    # score shape == (batch_size, max_length, 1)\n",
    "    # we get 1 at the last axis because we are applying score to self.V\n",
    "    # the shape of the tensor before applying self.V is (batch_size, max_length, units)\n",
    "    score = self.V(tf.nn.tanh(\n",
    "                              self.W1(tensor_Oculto_with_time_axis) + self.W2(tensor_Encoder_Output)\n",
    "                              )\n",
    "                  )\n",
    "\n",
    "    # tensor_attention_weights shape == (batch_size, max_length, 1)\n",
    "    tensor_attention_weights = tf.nn.softmax(score, axis=1)\n",
    "\n",
    "    # tensor_context_vector shape after sum == (batch_size, hidden_size)\n",
    "    tensor_context_vector = tensor_attention_weights * tensor_Encoder_Output\n",
    "    tensor_context_vector = tf.reduce_sum(tensor_context_vector, axis=1)\n",
    "\n",
    "    return tensor_context_vector, tensor_attention_weights"
   ]
  },
  {
   "cell_type": "code",
   "execution_count": 16,
   "metadata": {},
   "outputs": [],
   "source": [
    "class Decoder(tf.keras.Model):\n",
    "  def __init__(self, vocab_size, nbr_EmbeddingDim, nbr_EncDec_Units, nbr_TamanioBatch):\n",
    "    super(Decoder, self).__init__()\n",
    "    self.nbr_TamanioBatch = nbr_TamanioBatch\n",
    "    self.nbr_EncDec_Units = nbr_EncDec_Units\n",
    "    self.embedding = tf.keras.layers.Embedding(vocab_size, nbr_EmbeddingDim)\n",
    "    self.gru = tf.keras.layers.GRU(self.nbr_EncDec_Units,\n",
    "                                   return_sequences=True,\n",
    "                                   return_state=True,\n",
    "                                   recurrent_initializer='glorot_uniform')\n",
    "    self.fc = tf.keras.layers.Dense(vocab_size)\n",
    "\n",
    "    # used for attention\n",
    "    self.attention = BahdanauAttention(self.nbr_EncDec_Units)\n",
    "\n",
    "  def call(self, tensor_input, tensor_Oculto, tensor_Encoder_Output):\n",
    "    \n",
    "    # tensor_Encoder_Output shape == (batch_size, max_length, hidden_size)\n",
    "    tensor_context_vector, tensor_attention_weights = self.attention.call(tensor_Oculto, tensor_Encoder_Output)\n",
    "    \n",
    "\n",
    "    # tensor_input shape after passing through embedding == (batch_size, 1, nbr_EmbeddingDim)\n",
    "    tensor_input_embedding = self.embedding(tensor_input)\n",
    "\n",
    "    # x shape after concatenation == (batch_size, 1, nbr_EmbeddingDim + hidden_size)\n",
    "    tensor_input_embedding_concatenado = tf.concat([tf.expand_dims(tensor_context_vector, 1), tensor_input_embedding], axis=-1)\n",
    "\n",
    "    # passing the concatenated vector to the GRU\n",
    "    tensor_output, tensor_Decoder_Estado = self.gru(tensor_input_embedding_concatenado)\n",
    "\n",
    "    # tensor_output shape == (batch_size * 1, hidden_size)\n",
    "    tensor_output = tf.reshape(tensor_output, (-1, tensor_output.shape[2]))\n",
    "\n",
    "    # tensor_output shape == (batch_size, vocab)\n",
    "    tensor_Decoder_Output = self.fc(tensor_output)\n",
    "\n",
    "    return tensor_Decoder_Output, tensor_Decoder_Estado, tensor_attention_weights"
   ]
  },
  {
   "cell_type": "code",
   "execution_count": 17,
   "metadata": {},
   "outputs": [],
   "source": [
    "decoder = Decoder(nbr_TamanioVoc_Target, nbr_EmbeddingDim, nbr_EncDec_Units, nbr_TamanioBatch)\n",
    "tensor_aleatorio_batch = tf.random.uniform((nbr_TamanioBatch, 1))\n",
    "tensor_Decoder_Output, _, _ = decoder.call(tensor_aleatorio_batch,\n",
    "                                      tensor_Encoder_Estado_Oculto_Init,\n",
    "                                      tensor_Encoder_Output)"
   ]
  },
  {
   "cell_type": "code",
   "execution_count": 18,
   "metadata": {},
   "outputs": [],
   "source": [
    "optimizer = tf.keras.optimizers.Adam()\n",
    "loss_object = tf.keras.losses.SparseCategoricalCrossentropy(\n",
    "    from_logits=True, reduction='none')\n",
    "\n",
    "def loss_function(real, pred):\n",
    "  mask = tf.math.logical_not(tf.math.equal(real, 0))\n",
    "  loss_ = loss_object(real, pred)\n",
    "\n",
    "  mask = tf.cast(mask, dtype=loss_.dtype)\n",
    "  loss_ *= mask\n",
    "\n",
    "  return tf.reduce_mean(loss_)"
   ]
  },
  {
   "cell_type": "code",
   "execution_count": 19,
   "metadata": {},
   "outputs": [],
   "source": [
    "checkpoint_dir = '../training_checkpoints/'\n",
    "checkpoint_prefix = os.path.join(checkpoint_dir, \"ckpt\")\n",
    "checkpoint = tf.train.Checkpoint(optimizer=optimizer,\n",
    "                                 encoder=encoder,\n",
    "                                 decoder=decoder)"
   ]
  },
  {
   "cell_type": "code",
   "execution_count": 20,
   "metadata": {},
   "outputs": [
    {
     "name": "stdout",
     "output_type": "stream",
     "text": [
      "checkpoint\t\t    ckpt-2.data-00001-of-00002\r\n",
      "ckpt-2.data-00000-of-00002  ckpt-2.index\r\n"
     ]
    }
   ],
   "source": [
    "!ls ../training_checkpoints/"
   ]
  },
  {
   "cell_type": "code",
   "execution_count": 21,
   "metadata": {},
   "outputs": [],
   "source": [
    "@tf.function\n",
    "def train_step(tensor_Input_Batch, tensor_Target_Batch, tensor_Encoder_Oculto_Init):\n",
    "  loss = 0\n",
    "\n",
    "  with tf.GradientTape() as tape:\n",
    "\n",
    "    tensor_Encoder_Output, tensor_Encoder_Estado_Oculto = encoder.call(tensor_Input_Batch, tensor_Encoder_Oculto_Init)\n",
    "\n",
    "    tensor_Decoder_Estado = tensor_Encoder_Estado_Oculto\n",
    "\n",
    "    tensor_decoder_input = tf.expand_dims([Tokenizador_Frases_Target.word_index['<start>']] * nbr_TamanioBatch, 1)\n",
    "\n",
    "    # Teacher forcing - feeding the target as the next input\n",
    "    for token in range(1, tensor_Target_Batch.shape[1]):\n",
    "      # passing tensor_Encoder_Output to the decoder\n",
    "      \n",
    "      # tensor_Decoder_Output, tensor_Decoder_Estado, tensor_attention_weights\n",
    "      tensor_Predicciones, tensor_Decoder_Estado, _ = decoder.call(tensor_decoder_input, tensor_Decoder_Estado, tensor_Encoder_Output)\n",
    "\n",
    "      loss += loss_function(tensor_Target_Batch[:, token], tensor_Predicciones)\n",
    "\n",
    "      # using teacher forcing\n",
    "      tensor_decoder_input = tf.expand_dims(tensor_Target_Batch[:, token], 1)\n",
    "      \n",
    "\n",
    "  batch_loss = (loss / int(tensor_Target_Batch.shape[1]))\n",
    "\n",
    "  variables = encoder.trainable_variables + decoder.trainable_variables\n",
    "\n",
    "  gradients = tape.gradient(loss, variables)\n",
    "\n",
    "  optimizer.apply_gradients(zip(gradients, variables))\n",
    "\n",
    "  return batch_loss"
   ]
  },
  {
   "cell_type": "code",
   "execution_count": 22,
   "metadata": {},
   "outputs": [],
   "source": [
    "def evaluate(str_Oracion):\n",
    "  np_attention_plot = np.zeros((nbr_TamanioMax_FraseTarget, nbr_TamanioMax_FraseInput))\n",
    "\n",
    "  str_OracionPreparada = PrepararOraciones(str_Oracion)\n",
    "  \n",
    "  inputs = [Tokenizador_Frases_Input.word_index[i] for i in str_OracionPreparada.split(' ')]\n",
    "  inputs = tf.keras.preprocessing.sequence.pad_sequences([inputs],\n",
    "                                                         maxlen=nbr_TamanioMax_FraseInput,\n",
    "                                                         padding='post')\n",
    "  tensor_Input = tf.convert_to_tensor(inputs)\n",
    "\n",
    "  result = ''\n",
    "\n",
    "  tensor_Encoder_Oculto_Init = [tf.zeros((1, nbr_EncDec_Units))]\n",
    "\n",
    "  tensor_Encoder_Output, tensor_Encoder_Estado_Oculto = encoder(tensor_Input, tensor_Encoder_Oculto_Init)\n",
    "\n",
    "  tensor_Decoder_Estado_Oculto = tensor_Encoder_Estado_Oculto\n",
    "  tensor_Decoder_Input = tf.expand_dims([Tokenizador_Frases_Target.word_index['<start>']], 0)\n",
    "\n",
    "  # nbr_TamanioMax_FraseTarget, nbr_TamanioMax_FraseInput\n",
    "  for token in range(nbr_TamanioMax_FraseTarget):\n",
    "    # tensor_decoder_output, tensor_state, tensor_attention_weights\n",
    "    tensor_Predicciones, tensor_Decoder_Estado_Oculto, tensor_attention_weights = decoder.call(tensor_Decoder_Input,\n",
    "                                                         tensor_Decoder_Estado_Oculto,\n",
    "                                                         tensor_Encoder_Output)\n",
    "\n",
    "    # storing the attention weights to plot later on\n",
    "    tensor_attention_weights = tf.reshape(tensor_attention_weights, (-1, ))\n",
    "    np_attention_plot[token] = tensor_attention_weights.numpy()\n",
    "\n",
    "    predicted_id = tf.argmax(tensor_Predicciones[0]).numpy()\n",
    "\n",
    "    result += Tokenizador_Frases_Target.index_word[predicted_id] + ' '\n",
    "\n",
    "    if Tokenizador_Frases_Target.index_word[predicted_id] == '<end>':\n",
    "      return result, str_OracionPreparada, np_attention_plot\n",
    "\n",
    "    # the predicted ID is fed back into the model\n",
    "    tensor_Decoder_Input = tf.expand_dims([predicted_id], 0)\n",
    "\n",
    "  return result, str_OracionPreparada, np_attention_plot"
   ]
  },
  {
   "cell_type": "code",
   "execution_count": 23,
   "metadata": {},
   "outputs": [],
   "source": [
    "# function for plotting the attention weights\n",
    "def plot_attention(attention, sentence, predicted_sentence):\n",
    "  fig = plt.figure(figsize=(10,10))\n",
    "  ax = fig.add_subplot(1, 1, 1)\n",
    "  ax.matshow(attention, cmap='viridis')\n",
    "\n",
    "  fontdict = {'fontsize': 14}\n",
    "\n",
    "  ax.set_xticklabels([''] + sentence, fontdict=fontdict, rotation=90)\n",
    "  ax.set_yticklabels([''] + predicted_sentence, fontdict=fontdict)\n",
    "\n",
    "  ax.xaxis.set_major_locator(ticker.MultipleLocator(1))\n",
    "  ax.yaxis.set_major_locator(ticker.MultipleLocator(1))\n",
    "\n",
    "  plt.show()"
   ]
  },
  {
   "cell_type": "code",
   "execution_count": 24,
   "metadata": {},
   "outputs": [],
   "source": [
    "def Traducir(str_Oracion):\n",
    "  result, sentence, np_attention_plot = evaluate(str_Oracion)\n",
    "\n",
    "  print('Input: %s' % (sentence))\n",
    "  print('Predicted translation: {}'.format(result))\n",
    "\n",
    "  np_attention_plot = np_attention_plot[:len(result.split(' ')), :len(sentence.split(' '))]\n",
    "  plot_attention(np_attention_plot, sentence.split(' '), result.split(' '))"
   ]
  },
  {
   "cell_type": "code",
   "execution_count": 25,
   "metadata": {},
   "outputs": [
    {
     "data": {
      "text/plain": [
       "<tensorflow.python.training.tracking.util.CheckpointLoadStatus at 0x7f1ad56b9048>"
      ]
     },
     "execution_count": 25,
     "metadata": {},
     "output_type": "execute_result"
    }
   ],
   "source": [
    "# restoring the latest checkpoint in checkpoint_dir\n",
    "checkpoint.restore(tf.train.latest_checkpoint(checkpoint_dir))"
   ]
  },
  {
   "cell_type": "code",
   "execution_count": 26,
   "metadata": {},
   "outputs": [
    {
     "name": "stdout",
     "output_type": "stream",
     "text": [
      "Input: <start> hace mucho frio aqui . <end>\n",
      "Predicted translation: it is very cold here . <end> \n"
     ]
    },
    {
     "data": {
      "image/png": "[encoded data removed]",
      "text/plain": [
       "<Figure size 720x720 with 1 Axes>"
      ]
     },
     "metadata": {
      "needs_background": "light"
     },
     "output_type": "display_data"
    }
   ],
   "source": [
    "Traducir(u'hace mucho frio aqui.')"
   ]
  },
  {
   "cell_type": "code",
   "execution_count": 27,
   "metadata": {},
   "outputs": [
    {
     "name": "stdout",
     "output_type": "stream",
     "text": [
      "Input: <start> somos campeones <end>\n",
      "Predicted translation: we re academic . <end> \n"
     ]
    },
    {
     "data": {
      "image/png": "[encoded data removed]",
      "text/plain": [
       "<Figure size 720x720 with 1 Axes>"
      ]
     },
     "metadata": {
      "needs_background": "light"
     },
     "output_type": "display_data"
    }
   ],
   "source": [
    "Traducir('somos campeones')"
   ]
  },
  {
   "cell_type": "code",
   "execution_count": null,
   "metadata": {},
   "outputs": [],
   "source": []
  },
  {
   "cell_type": "code",
   "execution_count": null,
   "metadata": {},
   "outputs": [],
   "source": []
  }
 ],
 "metadata": {
  "kernelspec": {
   "display_name": "NMT",
   "language": "python",
   "name": "nmt"
  },
  "language_info": {
   "codemirror_mode": {
    "name": "ipython",
    "version": 3
   },
   "file_extension": ".py",
   "mimetype": "text/x-python",
   "name": "python",
   "nbconvert_exporter": "python",
   "pygments_lexer": "ipython3",
   "version": "3.7.3"
  }
 },
 "nbformat": 4,
 "nbformat_minor": 4
}
