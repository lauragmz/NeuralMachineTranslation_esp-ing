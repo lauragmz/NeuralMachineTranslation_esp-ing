{
 "cells": [
  {
   "cell_type": "markdown",
   "metadata": {},
   "source": [
    "<a href=\"https://colab.research.google.com/drive/1sNax0Uq-gPWO0SZgTEEYPrdBTRa9VAPA?usp=sharing\" target=\"_parent\"><img src=\"https://colab.research.google.com/assets/colab-badge.svg\" alt=\"Open In Colab\"/></a>"
   ]
  },
  {
   "cell_type": "markdown",
   "metadata": {},
   "source": [
    "### Entrenamiento para NMT con mecanísmos de atención"
   ]
  },
  {
   "cell_type": "markdown",
   "metadata": {},
   "source": [
    "Este código corresponde al entrenamiento de una NMT con mecanismo de atención. Se sugiere el uso de colab para correr este notebook y tener un mejor performance."
   ]
  },
  {
   "cell_type": "code",
   "execution_count": 1,
   "metadata": {
    "colab": {},
    "colab_type": "code",
    "id": "tnxXKDjq3jEL"
   },
   "outputs": [
    {
     "name": "stderr",
     "output_type": "stream",
     "text": [
      "/home/francisco/anaconda3/lib/python3.6/site-packages/h5py/__init__.py:36: FutureWarning: Conversion of the second argument of issubdtype from `float` to `np.floating` is deprecated. In future, it will be treated as `np.float64 == np.dtype(float).type`.\n",
      "  from ._conv import register_converters as _register_converters\n"
     ]
    }
   ],
   "source": [
    "import tensorflow as tf\n",
    "import matplotlib.pyplot as plt\n",
    "import matplotlib.ticker as ticker\n",
    "from sklearn.model_selection import train_test_split\n",
    "\n",
    "import unicodedata\n",
    "import re\n",
    "import numpy as np\n",
    "import os\n",
    "import io\n",
    "import time"
   ]
  },
  {
   "cell_type": "code",
   "execution_count": 0,
   "metadata": {
    "colab": {},
    "colab_type": "code",
    "id": "kRVATYOgJs1b"
   },
   "outputs": [],
   "source": [
    "# Download the file\n",
    "str_RutaZip = tf.keras.utils.get_file(\n",
    "    'spa-eng.zip', origin='http://storage.googleapis.com/download.tensorflow.org/data/spa-eng.zip',\n",
    "    extract=True)\n",
    "\n",
    "str_RutaArchivo = os.path.dirname(str_RutaZip)+\"/spa-eng/spa.txt\""
   ]
  },
  {
   "cell_type": "code",
   "execution_count": 0,
   "metadata": {
    "colab": {},
    "colab_type": "code",
    "id": "rd0jw-eC3jEh"
   },
   "outputs": [],
   "source": [
    "# Converts the unicode file to ascii\n",
    "def ConvertirUnicodeToAscii(str_Texto):\n",
    "  return ''.join(c for c in unicodedata.normalize('NFD', str_Texto) if unicodedata.category(c) != 'Mn')\n",
    "\n",
    "\n",
    "def PrepararOraciones(str_Oracion):\n",
    "  str_Oracion = ConvertirUnicodeToAscii(str_Oracion.lower().strip())\n",
    "\n",
    "  # Se crea un espacio entre las palabras y signos de puntuación\n",
    "  str_Oracion = re.sub(r\"([?.!,¿])\", r\" \\1 \", str_Oracion)\n",
    "  str_Oracion = re.sub(r'[\" \"]+', \" \", str_Oracion)\n",
    "\n",
    "  # Se reemplaza todo por un espacio excepto letras y signos especificados\n",
    "  str_Oracion = re.sub(r\"[^a-zA-Z?.!,¿]+\", \" \", str_Oracion)\n",
    "\n",
    "  str_Oracion = str_Oracion.strip()\n",
    "\n",
    "  # Se agrega el token de inicio y fin\n",
    "  str_Oracion = '<start> ' + str_Oracion + ' <end>'\n",
    "  return str_Oracion"
   ]
  },
  {
   "cell_type": "code",
   "execution_count": 4,
   "metadata": {
    "colab": {
     "base_uri": "https://localhost:8080/",
     "height": 51
    },
    "colab_type": "code",
    "id": "opI2GzOt479E",
    "outputId": "37b646cf-1511-47d1-84b8-fefd859bfac1"
   },
   "outputs": [
    {
     "name": "stdout",
     "output_type": "stream",
     "text": [
      "<start> may i borrow this book ? <end>\n",
      "b'<start> \\xc2\\xbf puedo tomar prestado este libro ? <end>'\n"
     ]
    }
   ],
   "source": [
    "str_Oracion_Target = u\"May I borrow this book?\"\n",
    "str_Oracion_Input = u\"¿Puedo tomar prestado este libro?\"\n",
    "\n",
    "print(PrepararOraciones(str_Oracion_Target))\n",
    "print(PrepararOraciones(str_Oracion_Input).encode('utf-8'))"
   ]
  },
  {
   "cell_type": "code",
   "execution_count": 0,
   "metadata": {
    "colab": {},
    "colab_type": "code",
    "id": "OHn4Dct23jEm"
   },
   "outputs": [],
   "source": [
    "# 1. Quitar acentos\n",
    "# 2. Limpiar oraciones\n",
    "# 3. Regresar parejas de textos en el formtato: [Target, Input]\n",
    "def PrepararDataset(str_RutaArchivo, nbr_CantEjemplos):\n",
    "\n",
    "  str_Lineas = io.open(str_RutaArchivo, encoding='UTF-8').read().strip().split('\\n')\n",
    "\n",
    "  list_ParejaDeFrases = [[PrepararOraciones(str_Oracion) for str_Oracion in str_Linea.split('\\t')]  for str_Linea in str_Lineas[:nbr_CantEjemplos]]\n",
    "  \n",
    "  return zip(*list_ParejaDeFrases)"
   ]
  },
  {
   "cell_type": "code",
   "execution_count": 6,
   "metadata": {
    "colab": {
     "base_uri": "https://localhost:8080/",
     "height": 71
    },
    "colab_type": "code",
    "id": "cTbSbBz55QtF",
    "outputId": "d255c6a1-cd8f-43e5-f8a4-f885e9e99a9d"
   },
   "outputs": [
    {
     "name": "stdout",
     "output_type": "stream",
     "text": [
      "<start> if you want to sound like a native speaker , you must be willing to practice saying the same sentence over and over in the same way that banjo players practice the same phrase over and over until they can play it correctly and at the desired tempo . <end>\n",
      "<start> si quieres sonar como un hablante nativo , debes estar dispuesto a practicar diciendo la misma frase una y otra vez de la misma manera en que un musico de banjo practica el mismo fraseo una y otra vez hasta que lo puedan tocar correctamente y en el tiempo esperado . <end>\n"
     ]
    }
   ],
   "source": [
    "tupl_Target, tupl_Input = PrepararDataset(str_RutaArchivo, None)\n",
    "\n",
    "# Mostramos la última frase de cada idioma\n",
    "print(tupl_Target[-1])\n",
    "print(tupl_Input[-1])"
   ]
  },
  {
   "cell_type": "code",
   "execution_count": 0,
   "metadata": {
    "colab": {},
    "colab_type": "code",
    "id": "bIOn8RCNDJXG"
   },
   "outputs": [],
   "source": [
    "def Tokenizar(tupl_Frases):\n",
    "  \n",
    "  Tokenizador_Frases = tf.keras.preprocessing.text.Tokenizer(filters='')\n",
    "  Tokenizador_Frases.fit_on_texts(tupl_Frases)\n",
    "\n",
    "  tensor = Tokenizador_Frases.texts_to_sequences(tupl_Frases)\n",
    "\n",
    "  tensor = tf.keras.preprocessing.sequence.pad_sequences(tensor, padding='post')\n",
    "\n",
    "  return tensor, Tokenizador_Frases\n",
    "  "
   ]
  },
  {
   "cell_type": "code",
   "execution_count": 0,
   "metadata": {
    "colab": {},
    "colab_type": "code",
    "id": "eAY9k49G3jE_"
   },
   "outputs": [],
   "source": [
    "def CargarDataset(str_RutaArchivo, nbr_CantEjemplos=None):\n",
    "  \n",
    "  tupl_Target, tupl_Input = PrepararDataset(str_RutaArchivo, nbr_CantEjemplos)\n",
    "\n",
    "  # Idioma Input\n",
    "  tensor_Input, Tokenizador_Frases_Input = Tokenizar(tupl_Input)\n",
    "  \n",
    "  # Idioma Target\n",
    "  tensor_Target, Tokenizador_Frases_Target = Tokenizar(tupl_Target)\n",
    "\n",
    "  return tensor_Input, tensor_Target, Tokenizador_Frases_Input, Tokenizador_Frases_Target"
   ]
  },
  {
   "cell_type": "code",
   "execution_count": 0,
   "metadata": {
    "colab": {},
    "colab_type": "code",
    "id": "cnxC7q-j3jFD"
   },
   "outputs": [],
   "source": [
    "# nbr_CantEjemplos = 100\n",
    "nbr_CantEjemplos = 100000 # 50,000\n",
    "\n",
    "tensor_Input, tensor_Target, Tokenizador_Frases_Input, Tokenizador_Frases_Target = CargarDataset(str_RutaArchivo, nbr_CantEjemplos)\n",
    "\n",
    "# Obtenemos el tamanio máximo de los tensores\n",
    "nbr_TamanioMax_FraseTarget, nbr_TamanioMax_FraseInput = tensor_Target.shape[1], tensor_Input.shape[1]"
   ]
  },
  {
   "cell_type": "code",
   "execution_count": 10,
   "metadata": {
    "colab": {
     "base_uri": "https://localhost:8080/",
     "height": 34
    },
    "colab_type": "code",
    "id": "4QILQkOs3jFG",
    "outputId": "9b95905b-e3a7-4804-ca98-4fba1c3e2f29"
   },
   "outputs": [
    {
     "name": "stdout",
     "output_type": "stream",
     "text": [
      "80000 80000 20000 20000\n"
     ]
    }
   ],
   "source": [
    "# Separamos train y test 80-20\n",
    "tensor_Input_train, tensor_Input_val, tensor_Target_train, tensor_Target_val = train_test_split(tensor_Input, tensor_Target, test_size=0.2)\n",
    "\n",
    "# Show length\n",
    "print(len(tensor_Input_train), len(tensor_Target_train), len(tensor_Input_val), len(tensor_Target_val))\n"
   ]
  },
  {
   "cell_type": "code",
   "execution_count": 0,
   "metadata": {
    "colab": {},
    "colab_type": "code",
    "id": "lJPmLZGMeD5q"
   },
   "outputs": [],
   "source": [
    "def convert(Tokenizador, tensor):\n",
    "  for t in tensor:\n",
    "    if t!=0:\n",
    "      print (\"%d ----> %s\" % (t, Tokenizador.index_word[t]))"
   ]
  },
  {
   "cell_type": "code",
   "execution_count": 12,
   "metadata": {
    "colab": {
     "base_uri": "https://localhost:8080/",
     "height": 442
    },
    "colab_type": "code",
    "id": "VXukARTDd7MT",
    "outputId": "c9879cd3-2727-48d9-f1dd-9e03c5d1afe9"
   },
   "outputs": [
    {
     "name": "stdout",
     "output_type": "stream",
     "text": [
      "Input Language; index to word mapping\n",
      "1 ----> <start>\n",
      "13 ----> es\n",
      "1894 ----> inutil\n",
      "4694 ----> hablarle\n",
      "72 ----> cuando\n",
      "18 ----> esta\n",
      "1057 ----> enojado\n",
      "3 ----> .\n",
      "2 ----> <end>\n",
      "\n",
      "Target Language; index to word mapping\n",
      "1 ----> <start>\n",
      "48 ----> there\n",
      "15 ----> s\n",
      "71 ----> no\n",
      "333 ----> talking\n",
      "7 ----> to\n",
      "46 ----> him\n",
      "91 ----> when\n",
      "13 ----> he\n",
      "15 ----> s\n",
      "327 ----> angry\n",
      "3 ----> .\n",
      "2 ----> <end>\n"
     ]
    }
   ],
   "source": [
    "print (\"Input Language; index to word mapping\")\n",
    "convert(Tokenizador_Frases_Input, tensor_Input_train[0])\n",
    "print ()\n",
    "print (\"Target Language; index to word mapping\")\n",
    "convert(Tokenizador_Frases_Target, tensor_Target_train[0])"
   ]
  },
  {
   "cell_type": "code",
   "execution_count": 0,
   "metadata": {
    "colab": {},
    "colab_type": "code",
    "id": "TqHsArVZ3jFS"
   },
   "outputs": [],
   "source": [
    "nbr_TamanioBuffer = len(tensor_Input_train)\n",
    "# nbr_TamanioBatch = 16\n",
    "nbr_TamanioBatch = 64\n",
    "nbr_steps_per_epoch = len(tensor_Input_train)//nbr_TamanioBatch\n",
    "nbr_EmbeddingDim = 256\n",
    "# nbr_EncDec_Units = 10\n",
    "nbr_EncDec_Units = 1024\n",
    "nbr_TamanioVoc_Input = len(Tokenizador_Frases_Input.word_index)+1\n",
    "nbr_TamanioVoc_Target = len(Tokenizador_Frases_Target.word_index)+1\n",
    "\n",
    "dataset = tf.data.Dataset.from_tensor_slices((tensor_Input_train, tensor_Target_train)).shuffle(nbr_TamanioBuffer)\n",
    "dataset = dataset.batch(nbr_TamanioBatch, drop_remainder=True)"
   ]
  },
  {
   "cell_type": "code",
   "execution_count": 14,
   "metadata": {
    "colab": {
     "base_uri": "https://localhost:8080/",
     "height": 34
    },
    "colab_type": "code",
    "id": "qc6-NK1GtWQt",
    "outputId": "7fa747c3-b859-4826-ab83-71c12e0eafc5"
   },
   "outputs": [
    {
     "data": {
      "text/plain": [
       "(TensorShape([64, 20]), TensorShape([64, 17]))"
      ]
     },
     "execution_count": 14,
     "metadata": {
      "tags": []
     },
     "output_type": "execute_result"
    }
   ],
   "source": [
    "tensor_Input_Batch_Ej, tensor_Target_Batch_Ej = next(iter(dataset))\n",
    "\n",
    "tensor_Input_Batch_Ej.shape, tensor_Target_Batch_Ej.shape"
   ]
  },
  {
   "cell_type": "code",
   "execution_count": 0,
   "metadata": {
    "colab": {},
    "colab_type": "code",
    "id": "nZ2rI24i3jFg"
   },
   "outputs": [],
   "source": [
    "class Encoder(tf.keras.Model):\n",
    "  def __init__(self, nbr_TamanioVoc_Input, nbr_EmbeddingDim, nbr_EncDec_Units, nbr_TamanioBatch):\n",
    "    super(Encoder, self).__init__()\n",
    "    self.nbr_TamanioBatch = nbr_TamanioBatch\n",
    "    self.nbr_EncDec_Units = nbr_EncDec_Units\n",
    "    self.embedding = tf.keras.layers.Embedding(nbr_TamanioVoc_Input, nbr_EmbeddingDim)\n",
    "    self.gru = tf.keras.layers.GRU(self.nbr_EncDec_Units,\n",
    "                                   return_sequences=True,\n",
    "                                   return_state=True,\n",
    "                                   recurrent_initializer='glorot_uniform')\n",
    "\n",
    "  def call(self, tensor_Input_Batch, tensor_Encoder_Oculto):\n",
    "    \n",
    "    tensor_Input_Batch_Embedding = self.embedding(tensor_Input_Batch)\n",
    "    \n",
    "    tensor_Encoder_Output, tensor_Encoder_Estado_Oculto = self.gru(tensor_Input_Batch_Embedding, initial_state = tensor_Encoder_Oculto)\n",
    "    return tensor_Encoder_Output, tensor_Encoder_Estado_Oculto\n",
    "\n",
    "  def initialize_hidden_state(self):\n",
    "    return tf.zeros((self.nbr_TamanioBatch, self.nbr_EncDec_Units))"
   ]
  },
  {
   "cell_type": "code",
   "execution_count": 16,
   "metadata": {
    "colab": {
     "base_uri": "https://localhost:8080/",
     "height": 51
    },
    "colab_type": "code",
    "id": "60gSVh05Jl6l",
    "outputId": "abf3e8f8-9840-4861-a3c8-0507b234cef3"
   },
   "outputs": [
    {
     "name": "stdout",
     "output_type": "stream",
     "text": [
      "--Encoder output shape: (batch size, sequence length, units) (64, 20, 1024)\n",
      "--Encoder Hidden state shape: (batch size, units) (64, 1024)\n"
     ]
    }
   ],
   "source": [
    "encoder = Encoder(nbr_TamanioVoc_Input, nbr_EmbeddingDim, nbr_EncDec_Units, nbr_TamanioBatch)\n",
    "\n",
    "# sample input\n",
    "tensor_Encoder_Estado_Oculto_Init = encoder.initialize_hidden_state()\n",
    "\n",
    "tensor_Encoder_Output, tensor_Encoder_Estado_Oculto = encoder.call(tensor_Input_Batch_Ej, tensor_Encoder_Estado_Oculto_Init)\n",
    "print ('--Encoder output shape: (batch size, sequence length, units) {}'.format(tensor_Encoder_Output.shape))\n",
    "print ('--Encoder Hidden state shape: (batch size, units) {}'.format(tensor_Encoder_Estado_Oculto.shape))"
   ]
  },
  {
   "cell_type": "code",
   "execution_count": 0,
   "metadata": {
    "colab": {},
    "colab_type": "code",
    "id": "umohpBN2OM94"
   },
   "outputs": [],
   "source": [
    "class BahdanauAttention(tf.keras.layers.Layer):\n",
    "  def __init__(self, units):\n",
    "    super(BahdanauAttention, self).__init__()\n",
    "    self.W1 = tf.keras.layers.Dense(units)\n",
    "    self.W2 = tf.keras.layers.Dense(units)\n",
    "    self.V = tf.keras.layers.Dense(1)\n",
    "\n",
    "  def call(self, tensor_Oculto, tensor_Encoder_Output):\n",
    "    # tensor_Oculto hidden state shape == (batch_size, hidden size)\n",
    "    # tensor_Oculto_with_time_axis shape == (batch_size, 1, hidden size)\n",
    "    # tensor_Encoder_Output shape == (batch_size, max_len, hidden size)\n",
    "    # we are doing this to broadcast addition along the time axis to calculate the score\n",
    "    tensor_Oculto_with_time_axis = tf.expand_dims(tensor_Oculto, 1)\n",
    "    # print('tensor_Oculto: ', tensor_Oculto) # MJMA\n",
    "    # print('tensor_Oculto_with_time_axis: ', tensor_Oculto_with_time_axis) # MJMA\n",
    "\n",
    "    # score shape == (batch_size, max_length, 1)\n",
    "    # we get 1 at the last axis because we are applying score to self.V\n",
    "    # the shape of the tensor before applying self.V is (batch_size, max_length, units)\n",
    "    score = self.V(tf.nn.tanh(\n",
    "                              self.W1(tensor_Oculto_with_time_axis) + self.W2(tensor_Encoder_Output)\n",
    "                              )\n",
    "                  )\n",
    "\n",
    "    # tensor_attention_weights shape == (batch_size, max_length, 1)\n",
    "    tensor_attention_weights = tf.nn.softmax(score, axis=1)\n",
    "\n",
    "    # tensor_context_vector shape after sum == (batch_size, hidden_size)\n",
    "    tensor_context_vector = tensor_attention_weights * tensor_Encoder_Output\n",
    "    tensor_context_vector = tf.reduce_sum(tensor_context_vector, axis=1)\n",
    "\n",
    "    return tensor_context_vector, tensor_attention_weights"
   ]
  },
  {
   "cell_type": "code",
   "execution_count": 18,
   "metadata": {
    "colab": {
     "base_uri": "https://localhost:8080/",
     "height": 51
    },
    "colab_type": "code",
    "id": "k534zTHiDjQU",
    "outputId": "376974b9-876a-4f81-e8ec-4a48797df766"
   },
   "outputs": [
    {
     "name": "stdout",
     "output_type": "stream",
     "text": [
      "Attention result shape: (batch size, units) (64, 1024)\n",
      "Attention weights shape: (batch_size, sequence_length, 1) (64, 20, 1)\n"
     ]
    }
   ],
   "source": [
    "attention_layer = BahdanauAttention(10)\n",
    "tensor_context_vector, tensor_attention_weights = attention_layer.call(tensor_Encoder_Estado_Oculto_Init, tensor_Encoder_Output)\n",
    "\n",
    "print(\"Attention result shape: (batch size, units) {}\".format(tensor_context_vector.shape))\n",
    "print(\"Attention weights shape: (batch_size, sequence_length, 1) {}\".format(tensor_attention_weights.shape))"
   ]
  },
  {
   "cell_type": "code",
   "execution_count": 0,
   "metadata": {
    "colab": {},
    "colab_type": "code",
    "id": "yJ_B3mhW3jFk"
   },
   "outputs": [],
   "source": [
    "class Decoder(tf.keras.Model):\n",
    "  def __init__(self, vocab_size, nbr_EmbeddingDim, nbr_EncDec_Units, nbr_TamanioBatch):\n",
    "    super(Decoder, self).__init__()\n",
    "    self.nbr_TamanioBatch = nbr_TamanioBatch\n",
    "    self.nbr_EncDec_Units = nbr_EncDec_Units\n",
    "    self.embedding = tf.keras.layers.Embedding(vocab_size, nbr_EmbeddingDim)\n",
    "    self.gru = tf.keras.layers.GRU(self.nbr_EncDec_Units,\n",
    "                                   return_sequences=True,\n",
    "                                   return_state=True,\n",
    "                                   recurrent_initializer='glorot_uniform')\n",
    "    self.fc = tf.keras.layers.Dense(vocab_size)\n",
    "\n",
    "    # used for attention\n",
    "    self.attention = BahdanauAttention(self.nbr_EncDec_Units)\n",
    "\n",
    "  def call(self, tensor_input, tensor_Oculto, tensor_Encoder_Output):\n",
    "    \n",
    "    # tensor_Encoder_Output shape == (batch_size, max_length, hidden_size)\n",
    "    tensor_context_vector, tensor_attention_weights = self.attention.call(tensor_Oculto, tensor_Encoder_Output)\n",
    "    \n",
    "\n",
    "    # tensor_input shape after passing through embedding == (batch_size, 1, nbr_EmbeddingDim)\n",
    "    tensor_input_embedding = self.embedding(tensor_input)\n",
    "\n",
    "    # x shape after concatenation == (batch_size, 1, nbr_EmbeddingDim + hidden_size)\n",
    "    tensor_input_embedding_concatenado = tf.concat([tf.expand_dims(tensor_context_vector, 1), tensor_input_embedding], axis=-1)\n",
    "\n",
    "    # passing the concatenated vector to the GRU\n",
    "    tensor_output, tensor_Decoder_Estado = self.gru(tensor_input_embedding_concatenado)\n",
    "\n",
    "    # tensor_output shape == (batch_size * 1, hidden_size)\n",
    "    tensor_output = tf.reshape(tensor_output, (-1, tensor_output.shape[2]))\n",
    "\n",
    "    # tensor_output shape == (batch_size, vocab)\n",
    "    tensor_Decoder_Output = self.fc(tensor_output)\n",
    "\n",
    "    return tensor_Decoder_Output, tensor_Decoder_Estado, tensor_attention_weights"
   ]
  },
  {
   "cell_type": "code",
   "execution_count": 20,
   "metadata": {
    "colab": {
     "base_uri": "https://localhost:8080/",
     "height": 34
    },
    "colab_type": "code",
    "id": "P5UY8wko3jFp",
    "outputId": "cf83169e-5a6f-4970-ecdf-e902fca3a636"
   },
   "outputs": [
    {
     "name": "stdout",
     "output_type": "stream",
     "text": [
      "Decoder output shape: (batch_size, vocab size) (64, 10785)\n"
     ]
    }
   ],
   "source": [
    "decoder = Decoder(nbr_TamanioVoc_Target, nbr_EmbeddingDim, nbr_EncDec_Units, nbr_TamanioBatch)\n",
    "tensor_aleatorio_batch = tf.random.uniform((nbr_TamanioBatch, 1))\n",
    "tensor_Decoder_Output, _, _ = decoder.call(tensor_aleatorio_batch,\n",
    "                                      tensor_Encoder_Estado_Oculto_Init,\n",
    "                                      tensor_Encoder_Output)\n",
    "\n",
    "print ('Decoder output shape: (batch_size, vocab size) {}'.format(tensor_Decoder_Output.shape))"
   ]
  },
  {
   "cell_type": "markdown",
   "metadata": {
    "colab_type": "text",
    "id": "_ch_71VbIRfK"
   },
   "source": [
    "## Define the optimizer and the loss function"
   ]
  },
  {
   "cell_type": "code",
   "execution_count": 0,
   "metadata": {
    "colab": {},
    "colab_type": "code",
    "id": "WmTHr5iV3jFr"
   },
   "outputs": [],
   "source": [
    "optimizer = tf.keras.optimizers.Adam()\n",
    "loss_object = tf.keras.losses.SparseCategoricalCrossentropy(\n",
    "    from_logits=True, reduction='none')\n",
    "\n",
    "def loss_function(real, pred):\n",
    "  mask = tf.math.logical_not(tf.math.equal(real, 0))\n",
    "  loss_ = loss_object(real, pred)\n",
    "\n",
    "  mask = tf.cast(mask, dtype=loss_.dtype)\n",
    "  loss_ *= mask\n",
    "\n",
    "  return tf.reduce_mean(loss_)"
   ]
  },
  {
   "cell_type": "markdown",
   "metadata": {
    "colab_type": "text",
    "id": "DMVWzzsfNl4e"
   },
   "source": [
    "## Checkpoints (Object-based saving)"
   ]
  },
  {
   "cell_type": "code",
   "execution_count": 0,
   "metadata": {
    "colab": {},
    "colab_type": "code",
    "id": "Zj8bXQTgNwrF"
   },
   "outputs": [],
   "source": [
    "checkpoint_dir = './training_checkpoints'\n",
    "checkpoint_prefix = os.path.join(checkpoint_dir, \"ckpt\")\n",
    "checkpoint = tf.train.Checkpoint(optimizer=optimizer,\n",
    "                                 encoder=encoder,\n",
    "                                 decoder=decoder)"
   ]
  },
  {
   "cell_type": "code",
   "execution_count": 0,
   "metadata": {
    "colab": {},
    "colab_type": "code",
    "id": "sC9ArXSsVfqn"
   },
   "outputs": [],
   "source": [
    "@tf.function\n",
    "def train_step(tensor_Input_Batch, tensor_Target_Batch, tensor_Encoder_Oculto_Init):\n",
    "  loss = 0\n",
    "\n",
    "  with tf.GradientTape() as tape:\n",
    "\n",
    "    tensor_Encoder_Output, tensor_Encoder_Estado_Oculto = encoder.call(tensor_Input_Batch, tensor_Encoder_Oculto_Init)\n",
    "\n",
    "    tensor_Decoder_Estado = tensor_Encoder_Estado_Oculto\n",
    "\n",
    "    tensor_decoder_input = tf.expand_dims([Tokenizador_Frases_Target.word_index['<start>']] * nbr_TamanioBatch, 1)\n",
    "\n",
    "    # Teacher forcing - feeding the target as the next input\n",
    "    for token in range(1, tensor_Target_Batch.shape[1]):\n",
    "      # passing tensor_Encoder_Output to the decoder\n",
    "      \n",
    "      # tensor_Decoder_Output, tensor_Decoder_Estado, tensor_attention_weights\n",
    "      tensor_Predicciones, tensor_Decoder_Estado, _ = decoder.call(tensor_decoder_input, tensor_Decoder_Estado, tensor_Encoder_Output)\n",
    "\n",
    "      loss += loss_function(tensor_Target_Batch[:, token], tensor_Predicciones)\n",
    "\n",
    "      # using teacher forcing\n",
    "      tensor_decoder_input = tf.expand_dims(tensor_Target_Batch[:, token], 1)\n",
    "      \n",
    "\n",
    "  batch_loss = (loss / int(tensor_Target_Batch.shape[1]))\n",
    "\n",
    "  variables = encoder.trainable_variables + decoder.trainable_variables\n",
    "\n",
    "  gradients = tape.gradient(loss, variables)\n",
    "\n",
    "  optimizer.apply_gradients(zip(gradients, variables))\n",
    "\n",
    "  return batch_loss"
   ]
  },
  {
   "cell_type": "code",
   "execution_count": 0,
   "metadata": {
    "colab": {
     "base_uri": "https://localhost:8080/",
     "height": 1000
    },
    "colab_type": "code",
    "id": "ddefjBMa3jF0",
    "outputId": "1e25ffcf-1362-4634-b9e1-799bf1eaff53"
   },
   "outputs": [
    {
     "name": "stdout",
     "output_type": "stream",
     "text": [
      "Epoch 1 Batch 0 Loss 4.4893\n",
      "Epoch 1 Batch 100 Loss 2.3471\n",
      "Epoch 1 Batch 200 Loss 2.0503\n",
      "Epoch 1 Batch 300 Loss 1.8419\n",
      "Epoch 1 Batch 400 Loss 1.7558\n",
      "Epoch 1 Batch 500 Loss 1.7042\n",
      "Epoch 1 Batch 600 Loss 1.4851\n",
      "Epoch 1 Batch 700 Loss 1.6245\n",
      "Epoch 1 Batch 800 Loss 1.3261\n",
      "Epoch 1 Batch 900 Loss 1.3894\n",
      "Epoch 1 Batch 1000 Loss 1.3711\n",
      "Epoch 1 Batch 1100 Loss 1.2765\n",
      "Epoch 1 Batch 1200 Loss 1.2025\n",
      "Epoch 1 Loss 1.6616\n",
      "Time taken for 1 epoch 458.8923394680023 sec\n",
      "\n",
      "Epoch 2 Batch 0 Loss 1.0880\n",
      "Epoch 2 Batch 100 Loss 1.1016\n",
      "Epoch 2 Batch 200 Loss 1.0305\n",
      "Epoch 2 Batch 300 Loss 1.1234\n",
      "Epoch 2 Batch 400 Loss 0.9347\n",
      "Epoch 2 Batch 500 Loss 1.0172\n",
      "Epoch 2 Batch 600 Loss 0.9297\n",
      "Epoch 2 Batch 700 Loss 0.9790\n",
      "Epoch 2 Batch 800 Loss 0.8613\n",
      "Epoch 2 Batch 900 Loss 0.7256\n",
      "Epoch 2 Batch 1000 Loss 0.7411\n",
      "Epoch 2 Batch 1100 Loss 0.6722\n",
      "Epoch 2 Batch 1200 Loss 0.7391\n",
      "Epoch 2 Loss 0.9041\n",
      "Time taken for 1 epoch 436.1432101726532 sec\n",
      "\n",
      "Epoch 3 Batch 0 Loss 0.6183\n",
      "Epoch 3 Batch 100 Loss 0.5582\n",
      "Epoch 3 Batch 200 Loss 0.7201\n",
      "Epoch 3 Batch 300 Loss 0.5201\n",
      "Epoch 3 Batch 400 Loss 0.5182\n",
      "Epoch 3 Batch 500 Loss 0.5462\n",
      "Epoch 3 Batch 600 Loss 0.6201\n",
      "Epoch 3 Batch 700 Loss 0.4183\n",
      "Epoch 3 Batch 800 Loss 0.4236\n",
      "Epoch 3 Batch 900 Loss 0.4982\n",
      "Epoch 3 Batch 1000 Loss 0.5143\n",
      "Epoch 3 Batch 1100 Loss 0.4854\n",
      "Epoch 3 Batch 1200 Loss 0.4931\n",
      "Epoch 3 Loss 0.5277\n",
      "Time taken for 1 epoch 434.97259855270386 sec\n",
      "\n",
      "Epoch 4 Batch 0 Loss 0.3411\n",
      "Epoch 4 Batch 100 Loss 0.3410\n",
      "Epoch 4 Batch 200 Loss 0.4331\n",
      "Epoch 4 Batch 300 Loss 0.2833\n",
      "Epoch 4 Batch 400 Loss 0.3298\n",
      "Epoch 4 Batch 500 Loss 0.3428\n",
      "Epoch 4 Batch 600 Loss 0.3825\n",
      "Epoch 4 Batch 700 Loss 0.3831\n",
      "Epoch 4 Batch 800 Loss 0.3693\n",
      "Epoch 4 Batch 900 Loss 0.3002\n",
      "Epoch 4 Batch 1000 Loss 0.3426\n",
      "Epoch 4 Batch 1100 Loss 0.4175\n",
      "Epoch 4 Batch 1200 Loss 0.3161\n",
      "Epoch 4 Loss 0.3491\n",
      "Time taken for 1 epoch 436.3750457763672 sec\n",
      "\n",
      "Epoch 5 Batch 0 Loss 0.1942\n",
      "Epoch 5 Batch 100 Loss 0.1475\n",
      "Epoch 5 Batch 200 Loss 0.2709\n",
      "Epoch 5 Batch 300 Loss 0.1964\n",
      "Epoch 5 Batch 400 Loss 0.2805\n",
      "Epoch 5 Batch 500 Loss 0.2278\n",
      "Epoch 5 Batch 600 Loss 0.2803\n",
      "Epoch 5 Batch 700 Loss 0.2528\n"
     ]
    }
   ],
   "source": [
    "EPOCHS = 10\n",
    "\n",
    "for epoch in range(EPOCHS):\n",
    "  start = time.time()\n",
    "\n",
    "  tensor_Encoder_Oculto_Init = encoder.initialize_hidden_state()\n",
    "  total_loss = 0\n",
    "\n",
    "  for (batch, (tensor_Input_Batch, tensor_Target_Batch)) in enumerate(dataset.take(nbr_steps_per_epoch)):\n",
    "    batch_loss = train_step(tensor_Input_Batch, tensor_Target_Batch, tensor_Encoder_Oculto_Init)\n",
    "    total_loss += batch_loss\n",
    "\n",
    "    if batch % 100 == 0:\n",
    "      print('Epoch {} Batch {} Loss {:.4f}'.format(epoch + 1,\n",
    "                                                   batch,\n",
    "                                                   batch_loss.numpy()))\n",
    "  # saving (checkpoint) the model every 2 epochs\n",
    "  if (epoch + 1) % 2 == 0:\n",
    "    checkpoint.save(file_prefix = checkpoint_prefix)\n",
    "\n",
    "  print('Epoch {} Loss {:.4f}'.format(epoch + 1,\n",
    "                                      total_loss / nbr_steps_per_epoch))\n",
    "  print('Time taken for 1 epoch {} sec\\n'.format(time.time() - start))"
   ]
  },
  {
   "cell_type": "code",
   "execution_count": 0,
   "metadata": {
    "colab": {},
    "colab_type": "code",
    "id": "EbQpyYs13jF_"
   },
   "outputs": [],
   "source": [
    "def evaluate(str_Oracion):\n",
    "  np_attention_plot = np.zeros((nbr_TamanioMax_FraseTarget, nbr_TamanioMax_FraseInput))\n",
    "\n",
    "  str_OracionPreparada = PrepararOraciones(str_Oracion)\n",
    "  \n",
    "  inputs = [Tokenizador_Frases_Input.word_index[i] for i in str_OracionPreparada.split(' ')]\n",
    "  inputs = tf.keras.preprocessing.sequence.pad_sequences([inputs],\n",
    "                                                         maxlen=nbr_TamanioMax_FraseInput,\n",
    "                                                         padding='post')\n",
    "  tensor_Input = tf.convert_to_tensor(inputs)\n",
    "\n",
    "  result = ''\n",
    "\n",
    "  tensor_Encoder_Oculto_Init = [tf.zeros((1, nbr_EncDec_Units))]\n",
    "\n",
    "  tensor_Encoder_Output, tensor_Encoder_Estado_Oculto = encoder(tensor_Input, tensor_Encoder_Oculto_Init)\n",
    "\n",
    "  tensor_Decoder_Estado_Oculto = tensor_Encoder_Estado_Oculto\n",
    "  tensor_Decoder_Input = tf.expand_dims([Tokenizador_Frases_Target.word_index['<start>']], 0)\n",
    "\n",
    "  # nbr_TamanioMax_FraseTarget, nbr_TamanioMax_FraseInput\n",
    "  for token in range(nbr_TamanioMax_FraseTarget):\n",
    "    # tensor_decoder_output, tensor_state, tensor_attention_weights\n",
    "    tensor_Predicciones, tensor_Decoder_Estado_Oculto, tensor_attention_weights = decoder.call(tensor_Decoder_Input,\n",
    "                                                         tensor_Decoder_Estado_Oculto,\n",
    "                                                         tensor_Encoder_Output)\n",
    "\n",
    "    # storing the attention weights to plot later on\n",
    "    tensor_attention_weights = tf.reshape(tensor_attention_weights, (-1, ))\n",
    "    np_attention_plot[token] = tensor_attention_weights.numpy()\n",
    "\n",
    "    predicted_id = tf.argmax(tensor_Predicciones[0]).numpy()\n",
    "\n",
    "    result += Tokenizador_Frases_Target.index_word[predicted_id] + ' '\n",
    "\n",
    "    if Tokenizador_Frases_Target.index_word[predicted_id] == '<end>':\n",
    "      return result, str_OracionPreparada, np_attention_plot\n",
    "\n",
    "    # the predicted ID is fed back into the model\n",
    "    tensor_Decoder_Input = tf.expand_dims([predicted_id], 0)\n",
    "\n",
    "  return result, str_OracionPreparada, np_attention_plot"
   ]
  },
  {
   "cell_type": "code",
   "execution_count": 0,
   "metadata": {
    "colab": {},
    "colab_type": "code",
    "id": "s5hQWlbN3jGF"
   },
   "outputs": [],
   "source": [
    "# function for plotting the attention weights\n",
    "def plot_attention(attention, sentence, predicted_sentence):\n",
    "  fig = plt.figure(figsize=(10,10))\n",
    "  ax = fig.add_subplot(1, 1, 1)\n",
    "  ax.matshow(attention, cmap='viridis')\n",
    "\n",
    "  fontdict = {'fontsize': 14}\n",
    "\n",
    "  ax.set_xticklabels([''] + sentence, fontdict=fontdict, rotation=90)\n",
    "  ax.set_yticklabels([''] + predicted_sentence, fontdict=fontdict)\n",
    "\n",
    "  ax.xaxis.set_major_locator(ticker.MultipleLocator(1))\n",
    "  ax.yaxis.set_major_locator(ticker.MultipleLocator(1))\n",
    "\n",
    "  plt.show()"
   ]
  },
  {
   "cell_type": "code",
   "execution_count": 0,
   "metadata": {
    "colab": {},
    "colab_type": "code",
    "id": "sl9zUHzg3jGI"
   },
   "outputs": [],
   "source": [
    "def Traducir(str_Oracion):\n",
    "  result, sentence, np_attention_plot = evaluate(str_Oracion)\n",
    "\n",
    "  print('Input: %s' % (sentence))\n",
    "  print('Predicted translation: {}'.format(result))\n",
    "\n",
    "  np_attention_plot = np_attention_plot[:len(result.split(' ')), :len(sentence.split(' '))]\n",
    "  plot_attention(np_attention_plot, sentence.split(' '), result.split(' '))"
   ]
  },
  {
   "cell_type": "markdown",
   "metadata": {
    "colab_type": "text",
    "id": "n250XbnjOaqP"
   },
   "source": [
    "## Restore the latest checkpoint and test"
   ]
  },
  {
   "cell_type": "code",
   "execution_count": 0,
   "metadata": {
    "colab": {},
    "colab_type": "code",
    "id": "UJpT9D5_OgP6"
   },
   "outputs": [],
   "source": [
    "# restoring the latest checkpoint in checkpoint_dir\n",
    "checkpoint.restore(tf.train.latest_checkpoint(checkpoint_dir))"
   ]
  },
  {
   "cell_type": "code",
   "execution_count": 0,
   "metadata": {
    "colab": {},
    "colab_type": "code",
    "id": "WrAM0FDomq3E"
   },
   "outputs": [],
   "source": [
    "Traducir(u'hace mucho frio aqui.')"
   ]
  },
  {
   "cell_type": "code",
   "execution_count": 0,
   "metadata": {
    "colab": {},
    "colab_type": "code",
    "id": "zSx2iM36EZQZ"
   },
   "outputs": [],
   "source": [
    "Traducir(u'esta es mi vida.')"
   ]
  },
  {
   "cell_type": "code",
   "execution_count": 0,
   "metadata": {
    "colab": {},
    "colab_type": "code",
    "id": "A3LLCx3ZE0Ls"
   },
   "outputs": [],
   "source": [
    "Traducir(u'¿todavia estan en casa?')"
   ]
  },
  {
   "cell_type": "code",
   "execution_count": 0,
   "metadata": {
    "colab": {},
    "colab_type": "code",
    "id": "DUQVLVqUE1YW"
   },
   "outputs": [],
   "source": [
    "# wrong translation\n",
    "Traducir(u'trata de averiguarlo.')"
   ]
  },
  {
   "cell_type": "code",
   "execution_count": 0,
   "metadata": {
    "colab": {},
    "colab_type": "code",
    "id": "m_wSu44X6xSN"
   },
   "outputs": [],
   "source": [
    "# MJMA prueba\n",
    "Traducir(u'¿Puedo tomar prestado este libro?')"
   ]
  },
  {
   "cell_type": "code",
   "execution_count": 0,
   "metadata": {
    "colab": {},
    "colab_type": "code",
    "id": "tu1H0KGZThqs"
   },
   "outputs": [],
   "source": [
    "# MJMA prueba\n",
    "#Traducir('¿Me prestas un cuaderno?')\n",
    "#Traducir('Cuidate')\n",
    "\n",
    "#Traducir('Sé que ha sido realmente duro para ti.')\n",
    "#Traducir('Le mentí a mi novia sobre mi edad.')\n",
    "Traducir(u'intentaba leer tantos libros como pudiera.')\n"
   ]
  },
  {
   "cell_type": "markdown",
   "metadata": {
    "colab_type": "text",
    "id": "RTe5P5ioMJwN"
   },
   "source": [
    "## Next steps\n",
    "\n",
    "* [Download a different dataset](http://www.manythings.org/anki/) to experiment with translations, for example, English to German, or English to French.\n",
    "* Experiment with training on a larger dataset, or using more epochs\n"
   ]
  }
 ],
 "metadata": {
  "accelerator": "GPU",
  "colab": {
   "collapsed_sections": [],
   "name": "Copia de nmt_with_attention.ipynb",
   "provenance": []
  },
  "kernelspec": {
   "display_name": "Python 3",
   "language": "python",
   "name": "python3"
  },
  "language_info": {
   "codemirror_mode": {
    "name": "ipython",
    "version": 3
   },
   "file_extension": ".py",
   "mimetype": "text/x-python",
   "name": "python",
   "nbconvert_exporter": "python",
   "pygments_lexer": "ipython3",
   "version": "3.6.5"
  }
 },
 "nbformat": 4,
 "nbformat_minor": 1
}
